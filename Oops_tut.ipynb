{
 "cells": [
  {
   "cell_type": "markdown",
   "id": "fcb039bf",
   "metadata": {},
   "source": [
    "## This notebook is supposed to serve as an intro to Object Oriented programming - OOPS\n",
    " - The basic idea is firstly to create shapes using classes.\n",
    " - Then to ensure we're not seperately defining everything again, as many of these shapes share a common number of properties \n",
    "   - Eg: A square is a special case of a rectangle\n",
    " - Then we use inheritance to solve for such special cases by using a ***base class*** and inheriting in a ***subclass***"
   ]
  },
  {
   "cell_type": "code",
   "execution_count": 34,
   "id": "55029615",
   "metadata": {},
   "outputs": [],
   "source": [
    "class Rectangle():\n",
    "    def __init__(self,length,width) -> None:\n",
    "        self.length = length\n",
    "        self.width = width\n",
    "\n",
    "    def area(self):\n",
    "        return self.length*self.width\n",
    "    \n",
    "    def perimeter(self):\n",
    "        return 2 * (self.length+self.width)\n",
    "\n",
    "class Square(Rectangle):\n",
    "    def __init__(self, length) -> None:\n",
    "        super(Square,self).__init__(length, length)\n",
    "\n",
    "class Triangle():\n",
    "    def __init__(self,base,height) -> None:\n",
    "        self.base = base\n",
    "        self.height = height\n",
    "    \n",
    "    def tri_area(self):\n",
    "        return 0.5 * self.base*  self.height\n",
    "\n",
    "class RightPyramid(Square,Triangle):\n",
    "    def __init__(self, base, slant_height) -> None:\n",
    "        self.base = base\n",
    "        self.slant_height = slant_height\n",
    "        super().__init__(base)\n",
    "    \n",
    "    def area(self):\n",
    "        base_area= super().area()\n",
    "        perimeter = super().perimeter()\n",
    "\n",
    "        return 0.5 * perimeter * self.slant_height + base_area\n",
    "    \n",
    "    def area_2(self):\n",
    "        base_area = super().area()\n",
    "        triangle_area = super().tri_area()\n",
    "        return triangle_area * 4 + base_area\n"
   ]
  },
  {
   "cell_type": "code",
   "execution_count": 38,
   "id": "06b77a03",
   "metadata": {},
   "outputs": [
    {
     "data": {
      "text/plain": [
       "(__main__.RightPyramid,\n",
       " __main__.Square,\n",
       " __main__.Rectangle,\n",
       " __main__.Triangle,\n",
       " object)"
      ]
     },
     "execution_count": 38,
     "metadata": {},
     "output_type": "execute_result"
    }
   ],
   "source": [
    "s = RightPyramid(2,4)\n",
    "RightPyramid.__mro__"
   ]
  },
  {
   "cell_type": "code",
   "execution_count": 39,
   "id": "50fa68fd",
   "metadata": {},
   "outputs": [
    {
     "data": {
      "text/plain": [
       "20.0"
      ]
     },
     "execution_count": 39,
     "metadata": {},
     "output_type": "execute_result"
    }
   ],
   "source": [
    "s.area()"
   ]
  }
 ],
 "metadata": {
  "kernelspec": {
   "display_name": "base",
   "language": "python",
   "name": "python3"
  },
  "language_info": {
   "codemirror_mode": {
    "name": "ipython",
    "version": 3
   },
   "file_extension": ".py",
   "mimetype": "text/x-python",
   "name": "python",
   "nbconvert_exporter": "python",
   "pygments_lexer": "ipython3",
   "version": "3.12.8"
  }
 },
 "nbformat": 4,
 "nbformat_minor": 5
}
